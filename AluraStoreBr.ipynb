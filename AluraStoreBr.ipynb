{
  "nbformat": 4,
  "nbformat_minor": 0,
  "metadata": {
    "colab": {
      "provenance": [],
      "include_colab_link": true
    },
    "kernelspec": {
      "name": "python3",
      "display_name": "Python 3"
    },
    "language_info": {
      "name": "python"
    }
  },
  "cells": [
    {
      "cell_type": "markdown",
      "metadata": {
        "id": "view-in-github",
        "colab_type": "text"
      },
      "source": [
        "<a href=\"https://colab.research.google.com/github/Leticia0002/Relat-rio-de-An-lise-de-Desempenho-das-Lojas/blob/main/AluraStoreBr.ipynb\" target=\"_parent\"><img src=\"https://colab.research.google.com/assets/colab-badge.svg\" alt=\"Open In Colab\"/></a>"
      ]
    },
    {
      "cell_type": "markdown",
      "source": [
        "### Importação dos dados\n",
        "\n"
      ],
      "metadata": {
        "id": "RhEdWd9YUR6H"
      }
    },
    {
      "cell_type": "code",
      "execution_count": 1,
      "metadata": {
        "colab": {
          "base_uri": "https://localhost:8080/",
          "height": 311
        },
        "id": "T3EvaeQ_INIL",
        "outputId": "e835e9a5-a24d-43f6-916c-3c9a23af4f20"
      },
      "outputs": [
        {
          "output_type": "execute_result",
          "data": {
            "text/plain": [
              "                 Produto Categoria do Produto    Preço      Frete  \\\n",
              "0     Assistente virtual          eletronicos   219.08   9.249790   \n",
              "1         Mesa de jantar               moveis   256.35  11.234305   \n",
              "2      Jogo de tabuleiro           brinquedos   279.51  21.262681   \n",
              "3            Micro-ondas     eletrodomesticos  1009.99  54.667344   \n",
              "4  Cadeira de escritório               moveis   446.99  26.964689   \n",
              "\n",
              "  Data da Compra        Vendedor Local da compra  Avaliação da compra  \\\n",
              "0     16/01/2021     Pedro Gomes              SP                    4   \n",
              "1     18/05/2022  Beatriz Moraes              RJ                    1   \n",
              "2     15/03/2021      João Souza              DF                    1   \n",
              "3     03/05/2022      João Souza              RS                    4   \n",
              "4     07/11/2020   Larissa Alves              MG                    5   \n",
              "\n",
              "  Tipo de pagamento  Quantidade de parcelas    lat    lon  \n",
              "0    cartao_credito                       8 -22.19 -48.79  \n",
              "1    cartao_credito                       4 -22.25 -42.66  \n",
              "2    cartao_credito                       1 -15.83 -47.86  \n",
              "3            boleto                       1 -30.17 -53.50  \n",
              "4            boleto                       1 -18.10 -44.38  "
            ],
            "text/html": [
              "\n",
              "  <div id=\"df-36c8f8c6-d6c0-4c64-a058-89f20de00a45\" class=\"colab-df-container\">\n",
              "    <div>\n",
              "<style scoped>\n",
              "    .dataframe tbody tr th:only-of-type {\n",
              "        vertical-align: middle;\n",
              "    }\n",
              "\n",
              "    .dataframe tbody tr th {\n",
              "        vertical-align: top;\n",
              "    }\n",
              "\n",
              "    .dataframe thead th {\n",
              "        text-align: right;\n",
              "    }\n",
              "</style>\n",
              "<table border=\"1\" class=\"dataframe\">\n",
              "  <thead>\n",
              "    <tr style=\"text-align: right;\">\n",
              "      <th></th>\n",
              "      <th>Produto</th>\n",
              "      <th>Categoria do Produto</th>\n",
              "      <th>Preço</th>\n",
              "      <th>Frete</th>\n",
              "      <th>Data da Compra</th>\n",
              "      <th>Vendedor</th>\n",
              "      <th>Local da compra</th>\n",
              "      <th>Avaliação da compra</th>\n",
              "      <th>Tipo de pagamento</th>\n",
              "      <th>Quantidade de parcelas</th>\n",
              "      <th>lat</th>\n",
              "      <th>lon</th>\n",
              "    </tr>\n",
              "  </thead>\n",
              "  <tbody>\n",
              "    <tr>\n",
              "      <th>0</th>\n",
              "      <td>Assistente virtual</td>\n",
              "      <td>eletronicos</td>\n",
              "      <td>219.08</td>\n",
              "      <td>9.249790</td>\n",
              "      <td>16/01/2021</td>\n",
              "      <td>Pedro Gomes</td>\n",
              "      <td>SP</td>\n",
              "      <td>4</td>\n",
              "      <td>cartao_credito</td>\n",
              "      <td>8</td>\n",
              "      <td>-22.19</td>\n",
              "      <td>-48.79</td>\n",
              "    </tr>\n",
              "    <tr>\n",
              "      <th>1</th>\n",
              "      <td>Mesa de jantar</td>\n",
              "      <td>moveis</td>\n",
              "      <td>256.35</td>\n",
              "      <td>11.234305</td>\n",
              "      <td>18/05/2022</td>\n",
              "      <td>Beatriz Moraes</td>\n",
              "      <td>RJ</td>\n",
              "      <td>1</td>\n",
              "      <td>cartao_credito</td>\n",
              "      <td>4</td>\n",
              "      <td>-22.25</td>\n",
              "      <td>-42.66</td>\n",
              "    </tr>\n",
              "    <tr>\n",
              "      <th>2</th>\n",
              "      <td>Jogo de tabuleiro</td>\n",
              "      <td>brinquedos</td>\n",
              "      <td>279.51</td>\n",
              "      <td>21.262681</td>\n",
              "      <td>15/03/2021</td>\n",
              "      <td>João Souza</td>\n",
              "      <td>DF</td>\n",
              "      <td>1</td>\n",
              "      <td>cartao_credito</td>\n",
              "      <td>1</td>\n",
              "      <td>-15.83</td>\n",
              "      <td>-47.86</td>\n",
              "    </tr>\n",
              "    <tr>\n",
              "      <th>3</th>\n",
              "      <td>Micro-ondas</td>\n",
              "      <td>eletrodomesticos</td>\n",
              "      <td>1009.99</td>\n",
              "      <td>54.667344</td>\n",
              "      <td>03/05/2022</td>\n",
              "      <td>João Souza</td>\n",
              "      <td>RS</td>\n",
              "      <td>4</td>\n",
              "      <td>boleto</td>\n",
              "      <td>1</td>\n",
              "      <td>-30.17</td>\n",
              "      <td>-53.50</td>\n",
              "    </tr>\n",
              "    <tr>\n",
              "      <th>4</th>\n",
              "      <td>Cadeira de escritório</td>\n",
              "      <td>moveis</td>\n",
              "      <td>446.99</td>\n",
              "      <td>26.964689</td>\n",
              "      <td>07/11/2020</td>\n",
              "      <td>Larissa Alves</td>\n",
              "      <td>MG</td>\n",
              "      <td>5</td>\n",
              "      <td>boleto</td>\n",
              "      <td>1</td>\n",
              "      <td>-18.10</td>\n",
              "      <td>-44.38</td>\n",
              "    </tr>\n",
              "  </tbody>\n",
              "</table>\n",
              "</div>\n",
              "    <div class=\"colab-df-buttons\">\n",
              "\n",
              "  <div class=\"colab-df-container\">\n",
              "    <button class=\"colab-df-convert\" onclick=\"convertToInteractive('df-36c8f8c6-d6c0-4c64-a058-89f20de00a45')\"\n",
              "            title=\"Convert this dataframe to an interactive table.\"\n",
              "            style=\"display:none;\">\n",
              "\n",
              "  <svg xmlns=\"http://www.w3.org/2000/svg\" height=\"24px\" viewBox=\"0 -960 960 960\">\n",
              "    <path d=\"M120-120v-720h720v720H120Zm60-500h600v-160H180v160Zm220 220h160v-160H400v160Zm0 220h160v-160H400v160ZM180-400h160v-160H180v160Zm440 0h160v-160H620v160ZM180-180h160v-160H180v160Zm440 0h160v-160H620v160Z\"/>\n",
              "  </svg>\n",
              "    </button>\n",
              "\n",
              "  <style>\n",
              "    .colab-df-container {\n",
              "      display:flex;\n",
              "      gap: 12px;\n",
              "    }\n",
              "\n",
              "    .colab-df-convert {\n",
              "      background-color: #E8F0FE;\n",
              "      border: none;\n",
              "      border-radius: 50%;\n",
              "      cursor: pointer;\n",
              "      display: none;\n",
              "      fill: #1967D2;\n",
              "      height: 32px;\n",
              "      padding: 0 0 0 0;\n",
              "      width: 32px;\n",
              "    }\n",
              "\n",
              "    .colab-df-convert:hover {\n",
              "      background-color: #E2EBFA;\n",
              "      box-shadow: 0px 1px 2px rgba(60, 64, 67, 0.3), 0px 1px 3px 1px rgba(60, 64, 67, 0.15);\n",
              "      fill: #174EA6;\n",
              "    }\n",
              "\n",
              "    .colab-df-buttons div {\n",
              "      margin-bottom: 4px;\n",
              "    }\n",
              "\n",
              "    [theme=dark] .colab-df-convert {\n",
              "      background-color: #3B4455;\n",
              "      fill: #D2E3FC;\n",
              "    }\n",
              "\n",
              "    [theme=dark] .colab-df-convert:hover {\n",
              "      background-color: #434B5C;\n",
              "      box-shadow: 0px 1px 3px 1px rgba(0, 0, 0, 0.15);\n",
              "      filter: drop-shadow(0px 1px 2px rgba(0, 0, 0, 0.3));\n",
              "      fill: #FFFFFF;\n",
              "    }\n",
              "  </style>\n",
              "\n",
              "    <script>\n",
              "      const buttonEl =\n",
              "        document.querySelector('#df-36c8f8c6-d6c0-4c64-a058-89f20de00a45 button.colab-df-convert');\n",
              "      buttonEl.style.display =\n",
              "        google.colab.kernel.accessAllowed ? 'block' : 'none';\n",
              "\n",
              "      async function convertToInteractive(key) {\n",
              "        const element = document.querySelector('#df-36c8f8c6-d6c0-4c64-a058-89f20de00a45');\n",
              "        const dataTable =\n",
              "          await google.colab.kernel.invokeFunction('convertToInteractive',\n",
              "                                                    [key], {});\n",
              "        if (!dataTable) return;\n",
              "\n",
              "        const docLinkHtml = 'Like what you see? Visit the ' +\n",
              "          '<a target=\"_blank\" href=https://colab.research.google.com/notebooks/data_table.ipynb>data table notebook</a>'\n",
              "          + ' to learn more about interactive tables.';\n",
              "        element.innerHTML = '';\n",
              "        dataTable['output_type'] = 'display_data';\n",
              "        await google.colab.output.renderOutput(dataTable, element);\n",
              "        const docLink = document.createElement('div');\n",
              "        docLink.innerHTML = docLinkHtml;\n",
              "        element.appendChild(docLink);\n",
              "      }\n",
              "    </script>\n",
              "  </div>\n",
              "\n",
              "\n",
              "    <div id=\"df-9d61e824-2eb6-4a35-9ffd-d689b44d3fcd\">\n",
              "      <button class=\"colab-df-quickchart\" onclick=\"quickchart('df-9d61e824-2eb6-4a35-9ffd-d689b44d3fcd')\"\n",
              "                title=\"Suggest charts\"\n",
              "                style=\"display:none;\">\n",
              "\n",
              "<svg xmlns=\"http://www.w3.org/2000/svg\" height=\"24px\"viewBox=\"0 0 24 24\"\n",
              "     width=\"24px\">\n",
              "    <g>\n",
              "        <path d=\"M19 3H5c-1.1 0-2 .9-2 2v14c0 1.1.9 2 2 2h14c1.1 0 2-.9 2-2V5c0-1.1-.9-2-2-2zM9 17H7v-7h2v7zm4 0h-2V7h2v10zm4 0h-2v-4h2v4z\"/>\n",
              "    </g>\n",
              "</svg>\n",
              "      </button>\n",
              "\n",
              "<style>\n",
              "  .colab-df-quickchart {\n",
              "      --bg-color: #E8F0FE;\n",
              "      --fill-color: #1967D2;\n",
              "      --hover-bg-color: #E2EBFA;\n",
              "      --hover-fill-color: #174EA6;\n",
              "      --disabled-fill-color: #AAA;\n",
              "      --disabled-bg-color: #DDD;\n",
              "  }\n",
              "\n",
              "  [theme=dark] .colab-df-quickchart {\n",
              "      --bg-color: #3B4455;\n",
              "      --fill-color: #D2E3FC;\n",
              "      --hover-bg-color: #434B5C;\n",
              "      --hover-fill-color: #FFFFFF;\n",
              "      --disabled-bg-color: #3B4455;\n",
              "      --disabled-fill-color: #666;\n",
              "  }\n",
              "\n",
              "  .colab-df-quickchart {\n",
              "    background-color: var(--bg-color);\n",
              "    border: none;\n",
              "    border-radius: 50%;\n",
              "    cursor: pointer;\n",
              "    display: none;\n",
              "    fill: var(--fill-color);\n",
              "    height: 32px;\n",
              "    padding: 0;\n",
              "    width: 32px;\n",
              "  }\n",
              "\n",
              "  .colab-df-quickchart:hover {\n",
              "    background-color: var(--hover-bg-color);\n",
              "    box-shadow: 0 1px 2px rgba(60, 64, 67, 0.3), 0 1px 3px 1px rgba(60, 64, 67, 0.15);\n",
              "    fill: var(--button-hover-fill-color);\n",
              "  }\n",
              "\n",
              "  .colab-df-quickchart-complete:disabled,\n",
              "  .colab-df-quickchart-complete:disabled:hover {\n",
              "    background-color: var(--disabled-bg-color);\n",
              "    fill: var(--disabled-fill-color);\n",
              "    box-shadow: none;\n",
              "  }\n",
              "\n",
              "  .colab-df-spinner {\n",
              "    border: 2px solid var(--fill-color);\n",
              "    border-color: transparent;\n",
              "    border-bottom-color: var(--fill-color);\n",
              "    animation:\n",
              "      spin 1s steps(1) infinite;\n",
              "  }\n",
              "\n",
              "  @keyframes spin {\n",
              "    0% {\n",
              "      border-color: transparent;\n",
              "      border-bottom-color: var(--fill-color);\n",
              "      border-left-color: var(--fill-color);\n",
              "    }\n",
              "    20% {\n",
              "      border-color: transparent;\n",
              "      border-left-color: var(--fill-color);\n",
              "      border-top-color: var(--fill-color);\n",
              "    }\n",
              "    30% {\n",
              "      border-color: transparent;\n",
              "      border-left-color: var(--fill-color);\n",
              "      border-top-color: var(--fill-color);\n",
              "      border-right-color: var(--fill-color);\n",
              "    }\n",
              "    40% {\n",
              "      border-color: transparent;\n",
              "      border-right-color: var(--fill-color);\n",
              "      border-top-color: var(--fill-color);\n",
              "    }\n",
              "    60% {\n",
              "      border-color: transparent;\n",
              "      border-right-color: var(--fill-color);\n",
              "    }\n",
              "    80% {\n",
              "      border-color: transparent;\n",
              "      border-right-color: var(--fill-color);\n",
              "      border-bottom-color: var(--fill-color);\n",
              "    }\n",
              "    90% {\n",
              "      border-color: transparent;\n",
              "      border-bottom-color: var(--fill-color);\n",
              "    }\n",
              "  }\n",
              "</style>\n",
              "\n",
              "      <script>\n",
              "        async function quickchart(key) {\n",
              "          const quickchartButtonEl =\n",
              "            document.querySelector('#' + key + ' button');\n",
              "          quickchartButtonEl.disabled = true;  // To prevent multiple clicks.\n",
              "          quickchartButtonEl.classList.add('colab-df-spinner');\n",
              "          try {\n",
              "            const charts = await google.colab.kernel.invokeFunction(\n",
              "                'suggestCharts', [key], {});\n",
              "          } catch (error) {\n",
              "            console.error('Error during call to suggestCharts:', error);\n",
              "          }\n",
              "          quickchartButtonEl.classList.remove('colab-df-spinner');\n",
              "          quickchartButtonEl.classList.add('colab-df-quickchart-complete');\n",
              "        }\n",
              "        (() => {\n",
              "          let quickchartButtonEl =\n",
              "            document.querySelector('#df-9d61e824-2eb6-4a35-9ffd-d689b44d3fcd button');\n",
              "          quickchartButtonEl.style.display =\n",
              "            google.colab.kernel.accessAllowed ? 'block' : 'none';\n",
              "        })();\n",
              "      </script>\n",
              "    </div>\n",
              "\n",
              "    </div>\n",
              "  </div>\n"
            ],
            "application/vnd.google.colaboratory.intrinsic+json": {
              "type": "dataframe",
              "variable_name": "loja",
              "summary": "{\n  \"name\": \"loja\",\n  \"rows\": 2359,\n  \"fields\": [\n    {\n      \"column\": \"Produto\",\n      \"properties\": {\n        \"dtype\": \"category\",\n        \"num_unique_values\": 51,\n        \"samples\": [\n          \"Viol\\u00e3o\",\n          \"Bola de basquete\",\n          \"Smartwatch\"\n        ],\n        \"semantic_type\": \"\",\n        \"description\": \"\"\n      }\n    },\n    {\n      \"column\": \"Categoria do Produto\",\n      \"properties\": {\n        \"dtype\": \"category\",\n        \"num_unique_values\": 8,\n        \"samples\": [\n          \"moveis\",\n          \"esporte e lazer\",\n          \"eletronicos\"\n        ],\n        \"semantic_type\": \"\",\n        \"description\": \"\"\n      }\n    },\n    {\n      \"column\": \"Pre\\u00e7o\",\n      \"properties\": {\n        \"dtype\": \"number\",\n        \"std\": 819.5827782539145,\n        \"min\": 10.07,\n        \"max\": 3969.38,\n        \"num_unique_values\": 2315,\n        \"samples\": [\n          446.11,\n          107.31,\n          65.86\n        ],\n        \"semantic_type\": \"\",\n        \"description\": \"\"\n      }\n    },\n    {\n      \"column\": \"Frete\",\n      \"properties\": {\n        \"dtype\": \"number\",\n        \"std\": 43.814183327408166,\n        \"min\": 0.0,\n        \"max\": 214.3770604781,\n        \"num_unique_values\": 2149,\n        \"samples\": [\n          83.815279607,\n          16.069664669,\n          14.0344876928\n        ],\n        \"semantic_type\": \"\",\n        \"description\": \"\"\n      }\n    },\n    {\n      \"column\": \"Data da Compra\",\n      \"properties\": {\n        \"dtype\": \"object\",\n        \"num_unique_values\": 1018,\n        \"samples\": [\n          \"15/09/2022\",\n          \"03/06/2020\",\n          \"06/11/2021\"\n        ],\n        \"semantic_type\": \"\",\n        \"description\": \"\"\n      }\n    },\n    {\n      \"column\": \"Vendedor\",\n      \"properties\": {\n        \"dtype\": \"category\",\n        \"num_unique_values\": 14,\n        \"samples\": [\n          \"Juliana Costa\",\n          \"Mariana Ferreira\",\n          \"Pedro Gomes\"\n        ],\n        \"semantic_type\": \"\",\n        \"description\": \"\"\n      }\n    },\n    {\n      \"column\": \"Local da compra\",\n      \"properties\": {\n        \"dtype\": \"category\",\n        \"num_unique_values\": 26,\n        \"samples\": [\n          \"TO\",\n          \"RN\",\n          \"SP\"\n        ],\n        \"semantic_type\": \"\",\n        \"description\": \"\"\n      }\n    },\n    {\n      \"column\": \"Avalia\\u00e7\\u00e3o da compra\",\n      \"properties\": {\n        \"dtype\": \"number\",\n        \"std\": 1,\n        \"min\": 1,\n        \"max\": 5,\n        \"num_unique_values\": 5,\n        \"samples\": [\n          1,\n          2,\n          5\n        ],\n        \"semantic_type\": \"\",\n        \"description\": \"\"\n      }\n    },\n    {\n      \"column\": \"Tipo de pagamento\",\n      \"properties\": {\n        \"dtype\": \"category\",\n        \"num_unique_values\": 4,\n        \"samples\": [\n          \"boleto\",\n          \"cartao_debito\",\n          \"cartao_credito\"\n        ],\n        \"semantic_type\": \"\",\n        \"description\": \"\"\n      }\n    },\n    {\n      \"column\": \"Quantidade de parcelas\",\n      \"properties\": {\n        \"dtype\": \"number\",\n        \"std\": 2,\n        \"min\": 1,\n        \"max\": 24,\n        \"num_unique_values\": 15,\n        \"samples\": [\n          7,\n          14,\n          8\n        ],\n        \"semantic_type\": \"\",\n        \"description\": \"\"\n      }\n    },\n    {\n      \"column\": \"lat\",\n      \"properties\": {\n        \"dtype\": \"number\",\n        \"std\": 5.372399916530833,\n        \"min\": -30.17,\n        \"max\": 1.41,\n        \"num_unique_values\": 26,\n        \"samples\": [\n          -9.46,\n          -5.81,\n          -22.19\n        ],\n        \"semantic_type\": \"\",\n        \"description\": \"\"\n      }\n    },\n    {\n      \"column\": \"lon\",\n      \"properties\": {\n        \"dtype\": \"number\",\n        \"std\": 4.183180020544179,\n        \"min\": -70.55,\n        \"max\": -36.59,\n        \"num_unique_values\": 26,\n        \"samples\": [\n          -48.26,\n          -36.59,\n          -48.79\n        ],\n        \"semantic_type\": \"\",\n        \"description\": \"\"\n      }\n    }\n  ]\n}"
            }
          },
          "metadata": {},
          "execution_count": 1
        }
      ],
      "source": [
        "import pandas as pd\n",
        "import matplotlib.pyplot as plt\n",
        "\n",
        "url = \"https://raw.githubusercontent.com/alura-es-cursos/challenge1-data-science/refs/heads/main/base-de-dados-challenge-1/loja_1.csv\"\n",
        "url2 = \"https://raw.githubusercontent.com/alura-es-cursos/challenge1-data-science/refs/heads/main/base-de-dados-challenge-1/loja_2.csv\"\n",
        "url3 = \"https://raw.githubusercontent.com/alura-es-cursos/challenge1-data-science/refs/heads/main/base-de-dados-challenge-1/loja_3.csv\"\n",
        "url4 = \"https://raw.githubusercontent.com/alura-es-cursos/challenge1-data-science/refs/heads/main/base-de-dados-challenge-1/loja_4.csv\"\n",
        "\n",
        "loja = pd.read_csv(url)\n",
        "loja2 = pd.read_csv(url2)\n",
        "loja3 = pd.read_csv(url3)\n",
        "loja4 = pd.read_csv(url4)\n",
        "\n",
        "loja.head()"
      ]
    },
    {
      "cell_type": "markdown",
      "source": [
        "#1. Análise do faturamento\n"
      ],
      "metadata": {
        "id": "X62IW3KFUIYm"
      }
    },
    {
      "cell_type": "code",
      "source": [
        "soma_loja = sum(loja['Preço'])\n",
        "soma_loja2 = sum(loja2['Preço'])\n",
        "soma_loja3 = sum(loja3['Preço'])\n",
        "soma_loja4 = sum(loja4['Preço'])\n",
        "\n",
        "milhoes_loja = soma_loja / 1000000\n",
        "milhoes_loja2 = soma_loja2 / 1000000\n",
        "milhoes_loja3 = soma_loja3 / 1000000\n",
        "milhoes_loja4 = soma_loja4 / 1000000\n",
        "\n",
        "print(f\"Faturamento da loja 1: {milhoes_loja:.2f} mi\")\n",
        "print()\n",
        "print(f\"Faturamento da loja 1: {milhoes_loja2:.2f} mi\")\n",
        "print()\n",
        "print(f\"Faturamento da loja 1: {milhoes_loja3:.2f} mi\")\n",
        "print()\n",
        "print(f\"Faturamento da loja 1: {milhoes_loja4:.2f} mi\")\n",
        "print()"
      ],
      "metadata": {
        "id": "xykobSftV64I",
        "colab": {
          "base_uri": "https://localhost:8080/"
        },
        "outputId": "2a052a08-6add-44e6-f52e-fe6d179c1329"
      },
      "execution_count": 2,
      "outputs": [
        {
          "output_type": "stream",
          "name": "stdout",
          "text": [
            "Faturamento da loja 1: 1.53 mi\n",
            "\n",
            "Faturamento da loja 1: 1.49 mi\n",
            "\n",
            "Faturamento da loja 1: 1.46 mi\n",
            "\n",
            "Faturamento da loja 1: 1.38 mi\n",
            "\n"
          ]
        }
      ]
    },
    {
      "cell_type": "code",
      "source": [
        "tela, eixo = plt.subplots()\n",
        "\n",
        "lojas = ['loja 1', 'loja 2', 'loja 3', 'loja 4']\n",
        "faturamento = [milhoes_loja, milhoes_loja2, milhoes_loja3, milhoes_loja4]\n",
        "legenda_barra = ['blue', 'violet', 'pink', 'orange']\n",
        "cor_barra = ['tab:blue', 'tab:purple', 'tab:pink', 'tab:orange']\n",
        "\n",
        "eixo.bar(lojas, faturamento, label =legenda_barra, color=cor_barra)\n",
        "\n",
        "eixo.set_ylabel('Faturamento em milhões')\n",
        "eixo.set_title('Faturamento das Lojas')\n",
        "eixo.legend(title='lojas', fontsize=5)\n",
        "\n",
        "plt.show()\n",
        "\n",
        "\n",
        "\n"
      ],
      "metadata": {
        "id": "KDyr8E71V3m-",
        "colab": {
          "base_uri": "https://localhost:8080/",
          "height": 452
        },
        "outputId": "4b3c5bd1-65b3-484c-d26b-13ef56bb8d93"
      },
      "execution_count": 3,
      "outputs": [
        {
          "output_type": "display_data",
          "data": {
            "text/plain": [
              "<Figure size 640x480 with 1 Axes>"
            ],
            "image/png": "[encoded data removed]"
          },
          "metadata": {}
        }
      ]
    },
    {
      "cell_type": "markdown",
      "source": [
        "# 2. Vendas por Categoria\n"
      ],
      "metadata": {
        "id": "2V_vcAPzWZmR"
      }
    },
    {
      "cell_type": "code",
      "source": [
        "categoria_loja = loja[\"Categoria do Produto\"].value_counts()\n",
        "categoria_loja2 = loja2[\"Categoria do Produto\"].value_counts()\n",
        "categoria_loja3 = loja3[\"Categoria do Produto\"].value_counts()\n",
        "categoria_loja4 = loja4[\"Categoria do Produto\"].value_counts()\n",
        "\n",
        "print(f\"{categoria_loja} loja 1\")\n",
        "print()\n",
        "print(f\"{categoria_loja2} loja 2\")\n",
        "print()\n",
        "print(f\"{categoria_loja3} loja 3\")\n",
        "print()\n",
        "print(f\"{categoria_loja4} loja 4\")\n",
        "\n"
      ],
      "metadata": {
        "id": "A34YupIuYhfF",
        "colab": {
          "base_uri": "https://localhost:8080/"
        },
        "outputId": "bb17db76-756f-4a63-e86b-bcdc7a69486a"
      },
      "execution_count": 4,
      "outputs": [
        {
          "output_type": "stream",
          "name": "stdout",
          "text": [
            "Categoria do Produto\n",
            "moveis                   465\n",
            "eletronicos              448\n",
            "brinquedos               324\n",
            "eletrodomesticos         312\n",
            "esporte e lazer          284\n",
            "instrumentos musicais    182\n",
            "livros                   173\n",
            "utilidades domesticas    171\n",
            "Name: count, dtype: int64 loja 1\n",
            "\n",
            "Categoria do Produto\n",
            "moveis                   442\n",
            "eletronicos              422\n",
            "brinquedos               313\n",
            "eletrodomesticos         305\n",
            "esporte e lazer          275\n",
            "instrumentos musicais    224\n",
            "livros                   197\n",
            "utilidades domesticas    181\n",
            "Name: count, dtype: int64 loja 2\n",
            "\n",
            "Categoria do Produto\n",
            "moveis                   499\n",
            "eletronicos              451\n",
            "brinquedos               315\n",
            "eletrodomesticos         278\n",
            "esporte e lazer          277\n",
            "livros                   185\n",
            "instrumentos musicais    177\n",
            "utilidades domesticas    177\n",
            "Name: count, dtype: int64 loja 3\n",
            "\n",
            "Categoria do Produto\n",
            "moveis                   480\n",
            "eletronicos              451\n",
            "brinquedos               338\n",
            "esporte e lazer          277\n",
            "eletrodomesticos         254\n",
            "utilidades domesticas    201\n",
            "livros                   187\n",
            "instrumentos musicais    170\n",
            "Name: count, dtype: int64 loja 4\n"
          ]
        }
      ]
    },
    {
      "cell_type": "code",
      "source": [
        "import matplotlib.pyplot as plt\n",
        "import numpy as np\n",
        "\n",
        "# Nomes das lojas (eixo x)\n",
        "lojas = ['Loja 1', 'Loja 2', 'Loja 3', 'Loja 4']\n",
        "\n",
        "# Faturamento por categoria\n",
        "categoria = {\n",
        "    'Móveis': [465, 442, 499, 480],\n",
        "    'Eletrônicos': [448, 422, 451, 451],\n",
        "    'Brinquedos': [324, 313, 315, 338],\n",
        "    'Eletrodomésticos': [312, 305, 278, 338],\n",
        "    'Esporte e Lazer': [284, 275, 277, 277],\n",
        "    'Utilidades Domésticas': [171, 181, 177, 201],\n",
        "    'Livros': [173, 197, 185, 187],\n",
        "    'Instrumentos Musicais': [182, 224, 177, 170],\n",
        "}\n",
        "\n",
        "# Converte para listas de valores e nomes\n",
        "valores = list(categoria.values())\n",
        "categorias = list(categoria.keys())\n",
        "\n",
        "# Cria gráfico\n",
        "fig, ax = plt.subplots(figsize=(10, 6))\n",
        "ax.stackplot(lojas, valores, labels=categorias, alpha=0.8)\n",
        "\n",
        "# Personalização\n",
        "ax.legend(loc='upper left')\n",
        "ax.set_title('Faturamento por Categoria em Cada Loja')\n",
        "ax.set_xlabel('Lojas')\n",
        "ax.set_ylabel('Faturamento (R$)')\n",
        "\n",
        "plt.tight_layout()\n",
        "plt.show()\n"
      ],
      "metadata": {
        "id": "yZR6cOjXYSk1",
        "colab": {
          "base_uri": "https://localhost:8080/",
          "height": 607
        },
        "outputId": "64f78802-d0cb-442c-8e60-5f99f508ffde"
      },
      "execution_count": 5,
      "outputs": [
        {
          "output_type": "display_data",
          "data": {
            "text/plain": [
              "<Figure size 1000x600 with 1 Axes>"
            ],
            "image/png": "[encoded data removed]"
          },
          "metadata": {}
        }
      ]
    },
    {
      "cell_type": "markdown",
      "source": [
        "# 3. Média de Avaliação das Lojas"
      ],
      "metadata": {
        "id": "Rq6tU_xSY3jk"
      }
    },
    {
      "cell_type": "code",
      "source": [
        "media_loja = round(loja[\"Avaliação da compra\"].mean(), 2)\n",
        "media_loja2 = round(loja2[\"Avaliação da compra\"].mean(), 2)\n",
        "media_loja3 = round(loja3[\"Avaliação da compra\"].mean(), 2)\n",
        "media_loja4 = round(loja4[\"Avaliação da compra\"].mean(), 2)\n",
        "\n",
        "print(f\" A média de avaliação da loja 1 é: {media_loja}\")\n",
        "print()\n",
        "print(f\" A média de avaliação da loja 2 é: {media_loja2}\")\n",
        "print()\n",
        "print(f\" A média de avaliação da loja 3 é: {media_loja3}\")\n",
        "print()\n",
        "print(f\" A média de avaliação da loja 4 é: {media_loja4}\")"
      ],
      "metadata": {
        "id": "bh3jjjJwY5MU",
        "colab": {
          "base_uri": "https://localhost:8080/"
        },
        "outputId": "3197a701-5178-4eed-b2e4-5ed0fc1fe90c"
      },
      "execution_count": 6,
      "outputs": [
        {
          "output_type": "stream",
          "name": "stdout",
          "text": [
            " A média de avaliação da loja 1 é: 3.98\n",
            "\n",
            " A média de avaliação da loja 2 é: 4.04\n",
            "\n",
            " A média de avaliação da loja 3 é: 4.05\n",
            "\n",
            " A média de avaliação da loja 4 é: 4.0\n"
          ]
        }
      ]
    },
    {
      "cell_type": "code",
      "source": [
        "import matplotlib.pyplot as plt\n",
        "\n",
        "labels = 'loja 1', 'loja 2', 'loja 3', 'loja 4'\n",
        "sizes = [media_loja, media_loja2, media_loja3, media_loja4]\n",
        "\n",
        "fig, ax = plt.subplots()\n",
        "ax.pie(sizes, labels=labels)\n"
      ],
      "metadata": {
        "id": "I0KkjPoTY88F",
        "colab": {
          "base_uri": "https://localhost:8080/",
          "height": 545
        },
        "outputId": "6755bb11-11a5-4b9f-9192-a0c5d34cce0a"
      },
      "execution_count": 7,
      "outputs": [
        {
          "output_type": "execute_result",
          "data": {
            "text/plain": [
              "([<matplotlib.patches.Wedge at 0x79ad908aa3d0>,\n",
              "  <matplotlib.patches.Wedge at 0x79ad908e5f50>,\n",
              "  <matplotlib.patches.Wedge at 0x79ad908e6f50>,\n",
              "  <matplotlib.patches.Wedge at 0x79ad908e7fd0>],\n",
              " [Text(0.7834986804643805, 0.7720944357464149, 'loja 1'),\n",
              "  Text(-0.769793739720447, 0.7857592495715268, 'loja 2'),\n",
              "  Text(-0.7774370704180791, -0.7781976622553907, 'loja 3'),\n",
              "  Text(0.7804739414016482, -0.7751518733725521, 'loja 4')])"
            ]
          },
          "metadata": {},
          "execution_count": 7
        },
        {
          "output_type": "display_data",
          "data": {
            "text/plain": [
              "<Figure size 640x480 with 1 Axes>"
            ],
            "image/png": "[encoded data removed]"
          },
          "metadata": {}
        }
      ]
    },
    {
      "cell_type": "markdown",
      "source": [
        "# 4. Produtos Mais e Menos Vendidos"
      ],
      "metadata": {
        "id": "DmNp1KPBZCm-"
      }
    },
    {
      "cell_type": "code",
      "source": [
        "lojas = [loja, loja2, loja3, loja4]\n",
        "nomes_lojas = [\"Loja 1\", \"Loja 2\", \"Loja 3\", \"Loja 4\"]\n",
        "\n",
        "for i in range(len(lojas)):\n",
        "    print(f\"Mais Vendidos da loja: {nomes_lojas[i]}\")\n",
        "    top5 = lojas[i][\"Produto\"].value_counts().nlargest(3)\n",
        "\n",
        "    for idx, (produto, qtd) in enumerate(top5.items(), start=1):\n",
        "        print(f\"{idx}. {produto} - {qtd} vendas\")\n",
        "\n",
        "    print()\n",
        "\n",
        "print(\"------------------------------------------------------------\")\n",
        "\n",
        "for i in range(len(lojas)):\n",
        "    print(f\"Menos  Vendidos da loja: {nomes_lojas[i]}\")\n",
        "    top5 = lojas[i][\"Produto\"].value_counts().nsmallest(3)\n",
        "\n",
        "    for idx, (produto, qtd) in enumerate(top5.items(), start=1):\n",
        "        print(f\"{idx}. {produto} - {qtd} vendas\")\n",
        "\n",
        "    print()\n",
        "\n"
      ],
      "metadata": {
        "id": "qoyjqijQZHfF",
        "colab": {
          "base_uri": "https://localhost:8080/"
        },
        "outputId": "097ba243-df6e-4cab-f33d-6a0806ef6c12"
      },
      "execution_count": 12,
      "outputs": [
        {
          "output_type": "stream",
          "name": "stdout",
          "text": [
            "Mais Vendidos da loja: Loja 1\n",
            "1. Micro-ondas - 60 vendas\n",
            "2. TV Led UHD 4K - 60 vendas\n",
            "3. Guarda roupas - 60 vendas\n",
            "\n",
            "Mais Vendidos da loja: Loja 2\n",
            "1. Iniciando em programação - 65 vendas\n",
            "2. Micro-ondas - 62 vendas\n",
            "3. Bateria - 61 vendas\n",
            "\n",
            "Mais Vendidos da loja: Loja 3\n",
            "1. Kit banquetas - 57 vendas\n",
            "2. Mesa de jantar - 56 vendas\n",
            "3. Cama king - 56 vendas\n",
            "\n",
            "Mais Vendidos da loja: Loja 4\n",
            "1. Cama box - 62 vendas\n",
            "2. Faqueiro - 59 vendas\n",
            "3. Dashboards com Power BI - 56 vendas\n",
            "\n",
            "------------------------------------------------------------\n",
            "Menos  Vendidos da loja: Loja 1\n",
            "1. Headset - 33 vendas\n",
            "2. Celular ABXY - 33 vendas\n",
            "3. Panela de pressão - 35 vendas\n",
            "\n",
            "Menos  Vendidos da loja: Loja 2\n",
            "1. Jogo de tabuleiro - 32 vendas\n",
            "2. Mesa de jantar - 34 vendas\n",
            "3. Impressora - 34 vendas\n",
            "\n",
            "Menos  Vendidos da loja: Loja 3\n",
            "1. Blocos de montar - 35 vendas\n",
            "2. Jogo de copos - 36 vendas\n",
            "3. Mochila - 36 vendas\n",
            "\n",
            "Menos  Vendidos da loja: Loja 4\n",
            "1. Guitarra - 33 vendas\n",
            "2. Guarda roupas - 34 vendas\n",
            "3. Violão - 37 vendas\n",
            "\n"
          ]
        }
      ]
    },
    {
      "cell_type": "code",
      "source": [
        "import matplotlib.pyplot as plt\n",
        "import numpy as np\n",
        "\n",
        "# Dados das lojas (exemplo)\n",
        "lojas = [\"Loja 1\", \"Loja 2\", \"Loja 3\", \"Loja 4\"]\n",
        "mais_vendidos = [180, 188, 169, 177]  # Soma dos 3 mais vendidos de cada loja\n",
        "menos_vendidos = [101, 100, 107, 104]  # Soma dos 3 menos vendidos de cada loja\n",
        "\n",
        "x = np.arange(len(lojas))  # Posições das labels no eixo X\n",
        "width = 0.35  # Largura das barras\n",
        "\n",
        "fig, ax = plt.subplots(figsize=(10, 6), layout='constrained')\n",
        "\n",
        "# Cria as barras para cada categoria\n",
        "bar1 = ax.bar(x - width/2, mais_vendidos, width, label='Mais Vendidos', color='#2ecc71')\n",
        "bar2 = ax.bar(x + width/2, menos_vendidos, width, label='Menos Vendidos', color='#e74c3c')\n",
        "\n",
        "# Configurações do gráfico\n",
        "ax.set_ylabel('Total de Vendas')\n",
        "ax.set_title('Comparação entre Mais e Menos Vendidos por Loja')\n",
        "ax.set_xticks(x)\n",
        "ax.set_xticklabels(lojas)\n",
        "ax.legend()\n",
        "\n",
        "# Adiciona os valores nas barras\n",
        "ax.bar_label(bar1, padding=3, fmt='%d vendas')\n",
        "ax.bar_label(bar2, padding=3, fmt='%d vendas')\n",
        "\n",
        "plt.show()"
      ],
      "metadata": {
        "id": "0Sw3sd4IZIGW",
        "colab": {
          "base_uri": "https://localhost:8080/",
          "height": 628
        },
        "outputId": "1c1facf3-330d-43e2-f39e-788806b53bee"
      },
      "execution_count": 16,
      "outputs": [
        {
          "output_type": "display_data",
          "data": {
            "text/plain": [
              "<Figure size 1000x600 with 1 Axes>"
            ],
            "image/png": "[encoded data removed]"
          },
          "metadata": {}
        }
      ]
    },
    {
      "cell_type": "markdown",
      "source": [
        "# 5. Frete Médio por Loja\n"
      ],
      "metadata": {
        "id": "Fl0cGi3bZKqU"
      }
    },
    {
      "cell_type": "code",
      "source": [
        "media_loja = loja[\"Frete\"].mean()\n",
        "media_loja2 = loja2[\"Frete\"].mean()\n",
        "media_loja3 = loja3[\"Frete\"].mean()\n",
        "media_loja4 = loja4[\"Frete\"].mean()\n",
        "\n",
        "print(f'Média de frete Loja 1: {media_loja}')\n",
        "print()\n",
        "print(f'Média de frete Loja 2: {media_loja2}')\n",
        "print()\n",
        "print(f'Média de frete Loja 3: {media_loja3}')\n",
        "print()\n",
        "print(f'Média de frete Loja 4: {media_loja4}')\n"
      ],
      "metadata": {
        "id": "S2JeaCykZNy9",
        "colab": {
          "base_uri": "https://localhost:8080/"
        },
        "outputId": "a705728d-ec3d-4531-9160-76ab9fb55302"
      },
      "execution_count": 10,
      "outputs": [
        {
          "output_type": "stream",
          "name": "stdout",
          "text": [
            "Média de frete Loja 1: 34.69180491551149\n",
            "\n",
            "Média de frete Loja 2: 33.62194065817927\n",
            "\n",
            "Média de frete Loja 3: 33.07446427411743\n",
            "\n",
            "Média de frete Loja 4: 31.278997081841727\n"
          ]
        }
      ]
    },
    {
      "cell_type": "code",
      "source": [
        "\n",
        "tela, eixof = plt.subplots()\n",
        "\n",
        "lojas = ['loja 1', 'loja 2', 'loja 3', 'loja 4']\n",
        "media_frete = [media_loja,media_loja2, media_loja3, media_loja4]\n",
        "legenda_barra = ['blue', 'violet', 'pink', 'orange']\n",
        "cor_barra = ['tab:blue', 'tab:purple', 'tab:pink', 'tab:orange']\n",
        "\n",
        "eixof.bar(lojas, media_frete, label =legenda_barra, color=cor_barra)\n",
        "\n",
        "eixof.set_ylabel('Frete')\n",
        "eixof.set_title('Frete das Lojas')\n",
        "eixo.legend(title='lojas', fontsize=5)\n",
        "\n",
        "plt.show()\n",
        "\n",
        "\n"
      ],
      "metadata": {
        "id": "0tSdCie9ZQlt",
        "colab": {
          "base_uri": "https://localhost:8080/",
          "height": 452
        },
        "outputId": "495527f9-e02b-4afb-c371-fca90bd5a776"
      },
      "execution_count": 11,
      "outputs": [
        {
          "output_type": "display_data",
          "data": {
            "text/plain": [
              "<Figure size 640x480 with 1 Axes>"
            ],
            "image/png": "[encoded data removed]"
          },
          "metadata": {}
        }
      ]
    },
    {
      "cell_type": "markdown",
      "source": [],
      "metadata": {
        "id": "1Nmu9oAG9Qvd"
      }
    },
    {
      "cell_type": "markdown",
      "source": [],
      "metadata": {
        "id": "lblXC9L89WNF"
      }
    },
    {
      "cell_type": "markdown",
      "source": [
        "# **Relatório de Análise de Desempenho das Lojas**\n",
        "\n",
        "## **Introdução**\n",
        "\n",
        "O objetivo deste relatório é analisar o desempenho das quatro lojas em operação, a fim de recomendar o fechamento de uma delas. Foram considerados fatores essenciais para a tomada de decisão, como:\n",
        "\n",
        "* Faturamento\n",
        "* Distribuição de vendas por categorias\n",
        "* Produtos mais e menos vendidos\n",
        "* Média de frete\n",
        "\n",
        "A análise permite identificar qual loja apresenta menor desempenho, possibilitando que o Sr. João foque os esforços na operação comercial das demais unidades.\n",
        "\n",
        "---\n",
        "\n",
        "## **Faturamento**\n",
        "\n",
        "Com base nos dados recebidos, observamos que a **Loja 4 apresenta o menor faturamento** entre as unidades, com R\\$ 1,38 milhões, enquanto as demais superam esse valor. Isso é um forte indicativo de um desempenho comercial inferior.\n",
        "\n",
        "---\n",
        "\n",
        "## **Distribuição por Categoria de Produto**\n",
        "\n",
        "Mais uma vez, a **Loja 4 se destaca negativamente**, apresentando resultados menos favoráveis na diversidade de vendas por categoria. Ela possui uma cartela menos robusta de produtos em comparação com as demais lojas, o que pode afetar sua atratividade junto aos consumidores.\n",
        "\n",
        "---\n",
        "\n",
        "## **Avaliação dos Clientes**\n",
        "\n",
        "Em relação à avaliação dos clientes:\n",
        "\n",
        "* Loja 1: **3,98**\n",
        "* Loja 2: **4,04**\n",
        "* Loja 3: **4,05**\n",
        "* Loja 4: **4,00**\n",
        "\n",
        "A **Loja 1 possui a média mais baixa**, abaixo de 4,0, mas a diferença entre ela e a Loja 4 é pequena. Ainda assim, a Loja 4 não se destaca nesse aspecto, ficando apenas mediana.\n",
        "\n",
        "---\n",
        "\n",
        "## **Produtos Mais e Menos Vendidos**\n",
        "\n",
        "Apesar da Loja 2 possuir um dos produtos menos vendidos com apenas 32 unidades, ela compensa com **excelente desempenho nos produtos mais vendidos**, superando outras lojas.\n",
        "\n",
        "Por outro lado, a **Loja 4 possui dois dos três produtos menos vendidos com baixa performance em itens de alto valor agregado** (guitarra, guarda-roupas e violão), o que impacta negativamente o ticket médio e a rentabilidade.\n",
        "\n",
        "---\n",
        "\n",
        "## **Média de Frete**\n",
        "\n",
        "Neste critério, a **Loja 4 se destaca positivamente**, apresentando o **menor custo médio de frete (R\\$ 31,28)**. Esse é um ponto favorável, mas isolado, frente aos demais aspectos analisados.\n",
        "\n",
        "---\n",
        "\n",
        "## **Conclusão**\n",
        "\n",
        "Após uma análise detalhada dos dados, **recomenda-se ao Sr. João o encerramento das atividades da Loja 4**. As demais lojas apresentam desempenho superior nos principais indicadores: faturamento, variedade de categorias, produtos mais vendidos e avaliação dos clientes.\n",
        "\n",
        "Embora a Loja 4 apresente um custo de frete mais competitivo, esse fator isolado **não compensa o desempenho inferior** nas outras áreas críticas. A sua cartela mais limitada de produtos e o menor faturamento comprometem sua viabilidade.\n",
        "\n",
        "---\n",
        "\n",
        "## **Recomendação**\n",
        "\n",
        "###  **Fechamento da Loja 4**\n",
        "\n",
        "Essa decisão permitirá **redirecionar recursos e atenção para as lojas com maior retorno financeiro**, além de concentrar esforços no crescimento gradativo e sustentável das unidades mais promissoras.\n",
        "\n",
        "---\n",
        "\n",
        "Se desejar, posso gerar esse relatório em **formato PDF**, apresentação de slides ou incluir **gráficos e tabelas comparativas**. Deseja que eu prepare uma dessas versões?\n",
        "\n"
      ],
      "metadata": {
        "id": "yE1bBXEX_Pl1"
      }
    },
    {
      "cell_type": "code",
      "source": [],
      "metadata": {
        "id": "8OIkiIZWANB8"
      },
      "execution_count": 17,
      "outputs": []
    }
  ]
}